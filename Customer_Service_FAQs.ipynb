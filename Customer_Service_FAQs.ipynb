{
 "cells": [
  {
   "cell_type": "code",
   "execution_count": 23,
   "metadata": {},
   "outputs": [
    {
     "data": {
      "text/plain": [
       "True"
      ]
     },
     "execution_count": 23,
     "metadata": {},
     "output_type": "execute_result"
    }
   ],
   "source": [
    "from dotenv import load_dotenv\n",
    "import os\n",
    "import openai\n",
    "import json\n",
    "import gradio as gr\n",
    "import logging\n",
    "from datetime import datetime\n",
    "\n",
    "# Load environment variables from .env file\n",
    "load_dotenv()"
   ]
  },
  {
   "cell_type": "code",
   "execution_count": 24,
   "metadata": {},
   "outputs": [],
   "source": [
    "openai.api_type = os.getenv(\"a_type\")\n",
    "openai.api_base = os.getenv(\"base\")\n",
    "openai.api_version = os.getenv(\"version\")\n",
    "openai.api_key = os.getenv(\"key\")\n"
   ]
  },
  {
   "cell_type": "code",
   "execution_count": 25,
   "metadata": {},
   "outputs": [
    {
     "name": "stdout",
     "output_type": "stream",
     "text": [
      "Running on local URL:  http://127.0.0.1:7875\n",
      "\n",
      "To create a public link, set `share=True` in `launch()`.\n"
     ]
    },
    {
     "data": {
      "text/html": [
       "<div><iframe src=\"http://127.0.0.1:7875/\" width=\"100%\" height=\"500\" allow=\"autoplay; camera; microphone; clipboard-read; clipboard-write;\" frameborder=\"0\" allowfullscreen></iframe></div>"
      ],
      "text/plain": [
       "<IPython.core.display.HTML object>"
      ]
     },
     "metadata": {},
     "output_type": "display_data"
    },
    {
     "name": "stdout",
     "output_type": "stream",
     "text": [
      "IMPORTANT: You are using gradio version 4.5.0, however version 4.44.1 is available, please upgrade.\n",
      "--------\n"
     ]
    }
   ],
   "source": [
    "\n",
    "# Path to the knowledge base file\n",
    "KNOWLEDGE_BASE_PATH = \"faq_json.json\"\n",
    "\n",
    "# Configure logging\n",
    "logging.basicConfig(\n",
    "    filename='app.log',  # Log file name\n",
    "    level=logging.INFO,   # Log level\n",
    "    format='%(asctime)s - %(levelname)s - %(message)s'  # Log format\n",
    ")\n",
    "\n",
    "# Load knowledge base (with error handling)\n",
    "def load_knowledge_base():\n",
    "    if os.path.exists(KNOWLEDGE_BASE_PATH):\n",
    "        try:\n",
    "            with open(KNOWLEDGE_BASE_PATH, \"r\") as f:\n",
    "                return json.load(f)\n",
    "        except json.JSONDecodeError:\n",
    "            logging.error(f\"{KNOWLEDGE_BASE_PATH} is not a valid JSON file. Initializing an empty knowledge base.\")\n",
    "            return {\"FAQs\": []}\n",
    "    else:\n",
    "        logging.warning(f\"{KNOWLEDGE_BASE_PATH} not found. Initializing an empty knowledge base.\")\n",
    "        return {\"FAQs\": []}\n",
    "\n",
    "knowledge_base = load_knowledge_base()\n",
    "\n",
    "# Function to log interactions using the logging module\n",
    "def log_interaction(query, response):\n",
    "    logging.info(f\"Query: {query}, Response: {response}\")\n",
    "\n",
    "# Function to search the knowledge base for an exact match\n",
    "def search_knowledge_base(query):\n",
    "    for faq in knowledge_base.get(\"FAQs\", []):\n",
    "        if faq[\"question\"].strip().lower() == query.strip().lower():\n",
    "            return faq[\"answer\"]\n",
    "    return None\n",
    "\n",
    "# Function to provide context from the knowledge base to the LLM\n",
    "def get_knowledge_base_context():\n",
    "    context = \"Here are some frequently asked questions and their answers:\\n\"\n",
    "    for faq in knowledge_base.get(\"FAQs\", []):\n",
    "        context += f\"Q: {faq['question']}\\nA: {faq['answer']}\\n\\n\"\n",
    "    return context\n",
    "\n",
    "# Function to handle user queries\n",
    "def handle_query(query):\n",
    "    if not query:\n",
    "        return \"Please provide your questions.\"\n",
    "\n",
    "    # Step 1: Search the knowledge base for an exact match\n",
    "    kb_answer = search_knowledge_base(query)\n",
    "    \n",
    "    if kb_answer:\n",
    "        log_interaction(query, kb_answer)\n",
    "        return kb_answer\n",
    "\n",
    "    # Step 2: If no exact match, use the LLM with knowledge base context\n",
    "    try:\n",
    "        context = get_knowledge_base_context()\n",
    "        persona=f'''\n",
    "        You are a Customer Service Assistant. Your primary role is to assist users by answering questions based on the provided FAQs.\n",
    "        Below are the following some FAQs: \n",
    "        {context}\n",
    "--------------------\n",
    "Guidelines:\n",
    "\n",
    "Answer Only from FAQs: Use the given FAQs to respond to customer inquiries. Do not provide information outside the provided context.\n",
    "Firm but Polite Boundaries: If a user asks a question unrelated to customer service FAQs, respond with:\n",
    "\"I am customer service chatbot.I'm here to assist with customer service-related queries only.\"\n",
    "Ensure Consistency: Always provide accurate and concise answers directly from the FAQs without unnecessary elaboration.\n",
    "No Speculation: If a relevant FAQ does not exist for a query, do not attempt to infer or create an answer. Instead, guide the user to contact customer support if needed.'''\n",
    "        response = openai.ChatCompletion.create(\n",
    "            engine=\"GPT4-O\",\n",
    "            messages=[\n",
    "                {\"role\": \"system\", \"content\":persona},\n",
    "                {\"role\": \"user\", \"content\": query}\n",
    "                \n",
    "            ],\n",
    "            temperature=0.7,\n",
    "            max_tokens=4096,\n",
    "            top_p=1,\n",
    "            frequency_penalty=0,\n",
    "            presence_penalty=0\n",
    "        )\n",
    "        \n",
    "        llm_answer = response.choices[0].message.content.strip()\n",
    "        \n",
    "    except Exception as e:\n",
    "        logging.error(f\"Error querying LLM: {e}\")\n",
    "        llm_answer = \"I'm sorry, I couldn't find a clear answer to your question.\"\n",
    "\n",
    "    # Log the interaction with LLM's answer\n",
    "    log_interaction(query, llm_answer)\n",
    "\n",
    "    # Step 3: Add Q&A to knowledge base if it's not present and LLM provided an answer\n",
    "    if llm_answer and not kb_answer:  # Only add if there's no existing answer\n",
    "        new_faq = {\"question\": query, \"answer\": llm_answer}\n",
    "        knowledge_base[\"FAQs\"].append(new_faq)\n",
    "        \n",
    "        # Save updated knowledge base back to JSON file\n",
    "        with open(KNOWLEDGE_BASE_PATH, \"w\") as f:\n",
    "            json.dump(knowledge_base, f, indent=4)\n",
    "\n",
    "    return llm_answer\n",
    "\n",
    "# Gradio interface setup\n",
    "def gradio_interface(query):\n",
    "    return handle_query(query)\n",
    "\n",
    "# Create Gradio UI components\n",
    "iface = gr.Interface(\n",
    "    fn=gradio_interface,\n",
    "    inputs=gr.Textbox(label=\"Your Question\"),\n",
    "    outputs=\"text\",\n",
    "    title=\"Intelligent FAQ Assistant\",\n",
    "    description=\"Ask questions related to our FAQs.\"\n",
    ")\n",
    "\n",
    "# Launch the Gradio app\n",
    "if __name__ == \"__main__\":\n",
    "    iface.launch()\n"
   ]
  },
  {
   "cell_type": "code",
   "execution_count": null,
   "metadata": {},
   "outputs": [],
   "source": []
  },
  {
   "cell_type": "code",
   "execution_count": null,
   "metadata": {},
   "outputs": [],
   "source": []
  }
 ],
 "metadata": {
  "kernelspec": {
   "display_name": "base",
   "language": "python",
   "name": "python3"
  },
  "language_info": {
   "codemirror_mode": {
    "name": "ipython",
    "version": 3
   },
   "file_extension": ".py",
   "mimetype": "text/x-python",
   "name": "python",
   "nbconvert_exporter": "python",
   "pygments_lexer": "ipython3",
   "version": "3.11.4"
  }
 },
 "nbformat": 4,
 "nbformat_minor": 2
}
